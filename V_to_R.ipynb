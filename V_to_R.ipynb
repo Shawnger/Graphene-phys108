{
 "cells": [
  {
   "cell_type": "code",
   "execution_count": null,
   "metadata": {},
   "outputs": [],
   "source": [
    "R_big = 7.913e6# the big resistance for small constant current +-0.001e6\n",
    "V_sin_Drive = 1 # the driving signal for R_big\n",
    "\n",
    "def V_to_R(V):\n",
    "    return  R_big/(V_sin_Drive/V-1)\n",
    "    "
   ]
  }
 ],
 "metadata": {
  "kernelspec": {
   "display_name": "Python 3",
   "language": "python",
   "name": "python3"
  },
  "language_info": {
   "codemirror_mode": {
    "name": "ipython",
    "version": 3
   },
   "file_extension": ".py",
   "mimetype": "text/x-python",
   "name": "python",
   "nbconvert_exporter": "python",
   "pygments_lexer": "ipython3",
   "version": "3.6.4"
  }
 },
 "nbformat": 4,
 "nbformat_minor": 2
}
