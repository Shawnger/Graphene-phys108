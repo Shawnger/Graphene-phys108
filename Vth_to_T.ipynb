{
 "cells": [
  {
   "cell_type": "code",
   "execution_count": 1,
   "metadata": {},
   "outputs": [],
   "source": [
    "from scipy.interpolate import interp1d\n",
    "import numpy as np\n",
    "Rth_big = 8.076e6# the big resistance for small constant current +-0.001e6\n",
    "Vth_sin_Drive = 1 # the driving signal for R_big\n",
    "\n",
    "def Read_T_R():\n",
    "    #with open('R23C30.dat') as file:\n",
    "    with open('R16C18.dat') as file:    \n",
    "        content = file.readlines()\n",
    "        content = [x.strip() for x in content]\n",
    "        content = [[float(y) for y in x.split('\\t')] for x in content]\n",
    "        \n",
    "    return content\n",
    "def Vth_to_R(Vth):\n",
    "    return Rth_big/(Vth_sin_Drive/Vth-1)\n",
    "    \n",
    "T_R = Read_T_R()\n",
    "\n",
    "def Vth_to_T(Vth):\n",
    "    Rth = Vth_to_R(Vth)\n",
    "    f = interp1d(np.transpose(T_R)[1], np.transpose(T_R)[0])\n",
    "    return f(Rth)\n",
    "    #for i in range(len(T_R)):\n",
    "    #    if( T_R[i][1]>Rth )&&( T_R[i+1][1]<Rth )\n",
    "            \n",
    "\n",
    "\n",
    "\n",
    "\n"
   ]
  },
  {
   "cell_type": "code",
   "execution_count": 2,
   "metadata": {},
   "outputs": [
    {
     "data": {
      "text/plain": [
       "array([3, 1])"
      ]
     },
     "execution_count": 2,
     "metadata": {},
     "output_type": "execute_result"
    }
   ],
   "source": [
    "np.transpose([[1,3],[2,1]])[1]"
   ]
  },
  {
   "cell_type": "code",
   "execution_count": null,
   "metadata": {},
   "outputs": [],
   "source": []
  }
 ],
 "metadata": {
  "kernelspec": {
   "display_name": "Python 3",
   "language": "python",
   "name": "python3"
  },
  "language_info": {
   "codemirror_mode": {
    "name": "ipython",
    "version": 3
   },
   "file_extension": ".py",
   "mimetype": "text/x-python",
   "name": "python",
   "nbconvert_exporter": "python",
   "pygments_lexer": "ipython3",
   "version": "3.6.4"
  }
 },
 "nbformat": 4,
 "nbformat_minor": 2
}
